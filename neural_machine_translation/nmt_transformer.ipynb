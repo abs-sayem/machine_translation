{
 "cells": [
  {
   "cell_type": "code",
   "execution_count": 1,
   "metadata": {},
   "outputs": [],
   "source": [
    "#text_file = \"eng-ban.txt\"\n",
    "text_file = \"ban-eng.txt\"\n",
    "# To open the text file we need to encode the text. Here, we use 'utf8' encoding\n",
    "with open(text_file, encoding=\"utf8\") as f:\n",
    "    lines = f.read().split(\"\\n\")[:-1]\n",
    "text_pairs = []\n",
    "for line in lines:\n",
    "    bangla, english = line.split(\" >>> \")\n",
    "    bangla = \"[start] \" + bangla + \" [end]\"\n",
    "    text_pairs.append((english, bangla))"
   ]
  },
  {
   "cell_type": "code",
   "execution_count": 2,
   "metadata": {},
   "outputs": [
    {
     "name": "stdout",
     "output_type": "stream",
     "text": [
      "Total Sentences: 20\n"
     ]
    }
   ],
   "source": [
    "print(\"Total Sentences:\", len(text_pairs))\n",
    "#text_pairs"
   ]
  },
  {
   "cell_type": "code",
   "execution_count": 5,
   "metadata": {},
   "outputs": [
    {
     "name": "stdout",
     "output_type": "stream",
     "text": [
      "('Nope.', '[start] না. [end]')\n",
      "('About hundrad million people speaks in Bangla.', '[start] প্রায় এক কোটি মানুষ বাংলায় কথা বলে. [end]')\n",
      "('Sorry.', '[start] দুঃখিত. [end]')\n",
      "('Bangladesh is a developing country.', '[start] বাংলাদেশ একটি উন্নয়নশীল দেশ. [end]')\n",
      "('It is a Bangla to English translation file.', '[start] এটা বাংলা থেকে ইংরেজি অনুবাদের নথি. [end]')\n"
     ]
    }
   ],
   "source": [
    "import random\n",
    "for i in range(5):\n",
    "    print(random.choice(text_pairs));"
   ]
  },
  {
   "cell_type": "code",
   "execution_count": 13,
   "metadata": {},
   "outputs": [],
   "source": [
    "import random\n",
    "random.shuffle(text_pairs)\n",
    "total_data_length = len(text_pairs)\n",
    "num_val_samples = int(0.20 * total_data_length)"
   ]
  },
  {
   "cell_type": "code",
   "execution_count": 14,
   "metadata": {},
   "outputs": [
    {
     "name": "stdout",
     "output_type": "stream",
     "text": [
      "20\n",
      "4\n"
     ]
    }
   ],
   "source": [
    "print(total_data_length)\n",
    "print(num_val_samples)"
   ]
  },
  {
   "cell_type": "code",
   "execution_count": 15,
   "metadata": {},
   "outputs": [],
   "source": [
    "num_train_samples = (total_data_length - 2 * num_val_samples)\n",
    "train_pairs = text_pairs[:num_train_samples]\n",
    "val_pairs = text_pairs[num_train_samples:num_train_samples + num_val_samples]\n",
    "test_pairs = text_pairs[num_train_samples + num_val_samples:]"
   ]
  },
  {
   "cell_type": "code",
   "execution_count": 17,
   "metadata": {},
   "outputs": [
    {
     "name": "stdout",
     "output_type": "stream",
     "text": [
      "12\n",
      "[('I know Bangla.', '[start] আমি বাংলা জানি. [end]'), ('Are you mad!', '[start] তুমি কি পাগল! [end]'), ('About seventy percentage of people are literate.', '[start] বাংলাদেশের প্রায় সত্তর ভাগ মানুষ স্বাক্ষর. [end]'), ('No.', '[start] না. [end]'), ('Bangladesh is a south-asian country.', '[start] বাংলাদেশ দক্ষিন এশিয়ার একটি দেশ. [end]'), ('Sorry.', '[start] দুঃখিত. [end]'), ('Nope.', '[start] না. [end]'), ('Bangladesh is a developing country.', '[start] বাংলাদেশ একটি উন্নয়নশীল দেশ. [end]'), (\"I don't know Bangla.\", '[start] আমি বাংলা জানি না. [end]'), ('About hundrad million people speaks in Bangla.', '[start] প্রায় এক কোটি মানুষ বাংলায় কথা বলে. [end]'), ('Allas! We lost the game.', '[start] হায়! আমরা খেলায় হেরেছি. [end]'), ('It is a Bangla to English translation file.', '[start] এটা বাংলা থেকে ইংরেজি অনুবাদের নথি. [end]')]\n",
      "4 \n",
      " [('I sing song in Bangla.', '[start] আমি বাংলায় গান গাই. [end]'), ('21st of February is the International Mother Language Day.', '[start] একুশে ফেব্রুয়ারি আন্তর্জাতিক মাতৃভাষা দিবস. [end]'), ('Have you ever been to Bangladesh?', '[start] আপনি কি কখনো বাংলাদেশে গিয়েছেন? [end]'), ('Yes.', '[start] হ্যাঁ. [end]')]\n",
      "4 \n",
      " [('Bangla is my mother tounge.', '[start] বাংলা আমার মাতৃভাষা. [end]'), ('Bangla is a language.', '[start] বাংলা একটি ভাষা. [end]'), ('I do not know him.', '[start] আমি উনাকে চিনি না. [end]'), ('Are you mad!', '[start] আপনি কি পাগল! [end]')]\n"
     ]
    }
   ],
   "source": [
    "print(f\"Number of Train Pairs: {len(train_pairs)}\")\n",
    "print(f\"Number of Val Pairs: {len(val_pairs)}\")\n",
    "print(f\"Number of Test Pairs: {len(test_pairs)}\")"
   ]
  },
  {
   "cell_type": "code",
   "execution_count": 74,
   "metadata": {},
   "outputs": [
    {
     "name": "stdout",
     "output_type": "stream",
     "text": [
      "('About seventy percentage of people are literate.', '[start] বাংলাদেশের প্রায় সত্তর ভাগ মানুষ স্বাক্ষর. [end]')\n"
     ]
    }
   ],
   "source": [
    "print(test_pairs)"
   ]
  },
  {
   "cell_type": "code",
   "execution_count": 5,
   "metadata": {},
   "outputs": [],
   "source": [
    "import tensorflow as tf\n",
    "import string\n",
    "import re\n",
    "\n",
    "strip_chars = string.punctuation + \"\"\n",
    "strip_chars = strip_chars.replace(\"[\", \"\")\n",
    "strip_chars = strip_chars.replace(\"]\", \"\")"
   ]
  },
  {
   "cell_type": "code",
   "execution_count": 7,
   "metadata": {},
   "outputs": [
    {
     "data": {
      "text/plain": [
       "'[!\"\\\\#\\\\$%\\\\&\\'\\\\(\\\\)\\\\*\\\\+,\\\\-\\\\./:;<=>\\\\?@\\\\\\\\\\\\^_`\\\\{\\\\|\\\\}\\\\~\\\\?]'"
      ]
     },
     "execution_count": 7,
     "metadata": {},
     "output_type": "execute_result"
    }
   ],
   "source": [
    "f\"[{re.escape(strip_chars)}]\""
   ]
  },
  {
   "cell_type": "code",
   "execution_count": 6,
   "metadata": {},
   "outputs": [],
   "source": [
    "# XXXXXXXXXXXXXXXXXXXXXXXXXXXXXXXXXXXXX\n",
    "from tensorflow.keras import layers\n",
    "\n",
    "def custom_standardization(input_string):\n",
    "    lowercase = tf.strings.lower(input_string)\n",
    "    return(tf.strings.regex_replace(\n",
    "        lowercase, f\"[{re.escape(strip_chars)}]\", \"\"\n",
    "    ))\n",
    "\n",
    "vocab_size = 10000\n",
    "sequence_length = 20\n",
    "source_vectorization = layers.TextVectorization(\n",
    "    max_tokens = vocab_size,\n",
    "    output_mode = \"int\",\n",
    "    output_sequence_length = sequence_length\n",
    ")\n",
    "target_vectorization = layers.TextVectorization(\n",
    "    max_tokens = vocab_size,\n",
    "    output_mode = \"int\",\n",
    "    output_sequence_length = sequence_length + 1,\n",
    "    standardize = custom_standardization\n",
    ")"
   ]
  },
  {
   "cell_type": "code",
   "execution_count": 7,
   "metadata": {},
   "outputs": [],
   "source": [
    "train_english_texts = [pair[0] for pair in train_pairs]\n",
    "train_bangla_texts = [pair[1] for pair in train_pairs]\n",
    "source_vectorization.adapt(train_english_texts)\n",
    "target_vectorization.adapt(train_bangla_texts)"
   ]
  },
  {
   "cell_type": "code",
   "execution_count": 8,
   "metadata": {},
   "outputs": [],
   "source": [
    "batch_size = 64\n",
    "\n",
    "def format_dataset(eng, ban):\n",
    "    eng = source_vectorization(eng)\n",
    "    ban = source_vectorization(ban)\n",
    "    return({\"english\": eng, \"bangla\": ban[:, :-1]}, ban[:, 1:])\n",
    "\n",
    "def make_dataset(pairs):\n",
    "    eng_texts, ban_texts = zip(*pairs)\n",
    "    eng_texts = list(eng_texts)\n",
    "    ban_texts = list(ban_texts)\n",
    "    dataset = tf.data.Dataset.from_tensor_slices((eng_texts, ban_texts))\n",
    "    dataset = dataset.batch(batch_size)\n",
    "    dataset = dataset.map(format_dataset, num_parallel_calls = 4)\n",
    "    return(dataset.shuffle(2048).prefetch(16).cache())\n",
    "\n",
    "train_ds = make_dataset(train_pairs)\n",
    "val_ds = make_dataset(val_pairs)"
   ]
  },
  {
   "cell_type": "code",
   "execution_count": 22,
   "metadata": {},
   "outputs": [],
   "source": [
    "#print(list(train_ds.as_numpy_iterator()));"
   ]
  },
  {
   "cell_type": "code",
   "execution_count": 9,
   "metadata": {},
   "outputs": [
    {
     "name": "stdout",
     "output_type": "stream",
     "text": [
      "inputs['english'].shape: (12, 20)\n",
      "inputs['bangla'].shape: (12, 19)\n",
      "target.shape: (12, 19)\n"
     ]
    }
   ],
   "source": [
    "for inputs, targets in train_ds.take(1):\n",
    "    print(f\"inputs['english'].shape: {inputs['english'].shape}\")\n",
    "    print(f\"inputs['bangla'].shape: {inputs['bangla'].shape}\")\n",
    "    print(f\"target.shape: {targets.shape}\")"
   ]
  },
  {
   "cell_type": "code",
   "execution_count": 10,
   "metadata": {},
   "outputs": [],
   "source": [
    "from tensorflow import keras\n",
    "\n",
    "embed_dim = 256\n",
    "latent_dim = 1024"
   ]
  },
  {
   "cell_type": "code",
   "execution_count": 11,
   "metadata": {},
   "outputs": [],
   "source": [
    "source = keras.Input(shape=(None,), dtype=\"int64\", name=\"english\")\n",
    "x = layers.Embedding(vocab_size, embed_dim, mask_zero=True)(source)\n",
    "encoded_source = layers.Bidirectional(layers.GRU(latent_dim), merge_mode=\"sum\")(x)"
   ]
  },
  {
   "cell_type": "code",
   "execution_count": 12,
   "metadata": {},
   "outputs": [],
   "source": [
    "past_target = keras.Input(shape=(None,), dtype=\"int64\", name=\"bangla\")\n",
    "x = layers.Embedding(vocab_size, embed_dim, mask_zero=True)(past_target)\n",
    "decoder_gru = layers.GRU(latent_dim, return_sequences=True)\n",
    "x = decoder_gru(x, initial_state=encoded_source)\n",
    "x = layers.Dropout(0.5)(x)\n",
    "target_next_step = layers.Dense(vocab_size, activation=\"softmax\")(x)\n",
    "seq2seq_rnn = keras.Model([source, past_target], target_next_step)"
   ]
  },
  {
   "cell_type": "code",
   "execution_count": 29,
   "metadata": {},
   "outputs": [],
   "source": [
    "#seq2seq_rnn.summary()"
   ]
  },
  {
   "cell_type": "code",
   "execution_count": 13,
   "metadata": {},
   "outputs": [
    {
     "name": "stdout",
     "output_type": "stream",
     "text": [
      "Epoch 1/50\n",
      "1/1 [==============================] - 26s 26s/step - loss: 2.7881 - accuracy: 0.0000e+00 - val_loss: 2.7980 - val_accuracy: 0.8333\n",
      "Epoch 2/50\n",
      "1/1 [==============================] - 2s 2s/step - loss: 2.6784 - accuracy: 0.8261 - val_loss: 1.6233 - val_accuracy: 0.8333\n",
      "Epoch 3/50\n",
      "1/1 [==============================] - 2s 2s/step - loss: 1.4187 - accuracy: 0.8261 - val_loss: 0.2749 - val_accuracy: 0.8333\n",
      "Epoch 4/50\n",
      "1/1 [==============================] - 2s 2s/step - loss: 0.4251 - accuracy: 0.8261 - val_loss: 0.2723 - val_accuracy: 0.3333\n",
      "Epoch 5/50\n",
      "1/1 [==============================] - 2s 2s/step - loss: 0.4180 - accuracy: 0.4058 - val_loss: 0.2750 - val_accuracy: 0.8333\n",
      "Epoch 6/50\n",
      "1/1 [==============================] - 3s 3s/step - loss: 0.3662 - accuracy: 0.8261 - val_loss: 0.1781 - val_accuracy: 0.8333\n",
      "Epoch 7/50\n",
      "1/1 [==============================] - 3s 3s/step - loss: 0.2637 - accuracy: 0.8261 - val_loss: 0.1389 - val_accuracy: 0.8333\n",
      "Epoch 8/50\n",
      "1/1 [==============================] - 4s 4s/step - loss: 0.2149 - accuracy: 0.8261 - val_loss: 0.1307 - val_accuracy: 0.8333\n",
      "Epoch 9/50\n",
      "1/1 [==============================] - 3s 3s/step - loss: 0.2013 - accuracy: 0.8261 - val_loss: 0.1268 - val_accuracy: 0.8333\n",
      "Epoch 10/50\n",
      "1/1 [==============================] - 3s 3s/step - loss: 0.1791 - accuracy: 0.8261 - val_loss: 0.1194 - val_accuracy: 0.8333\n",
      "Epoch 11/50\n",
      "1/1 [==============================] - 3s 3s/step - loss: 0.1698 - accuracy: 0.8261 - val_loss: 0.1438 - val_accuracy: 0.9167\n",
      "Epoch 12/50\n",
      "1/1 [==============================] - 3s 3s/step - loss: 0.1606 - accuracy: 0.8551 - val_loss: 0.1917 - val_accuracy: 0.8333\n",
      "Epoch 13/50\n",
      "1/1 [==============================] - 3s 3s/step - loss: 0.2653 - accuracy: 0.8261 - val_loss: 0.1624 - val_accuracy: 0.9167\n",
      "Epoch 14/50\n",
      "1/1 [==============================] - 3s 3s/step - loss: 0.1682 - accuracy: 0.7391 - val_loss: 0.1482 - val_accuracy: 0.8333\n",
      "Epoch 15/50\n",
      "1/1 [==============================] - 3s 3s/step - loss: 0.1628 - accuracy: 0.8261 - val_loss: 0.1254 - val_accuracy: 0.8333\n",
      "Epoch 16/50\n",
      "1/1 [==============================] - 3s 3s/step - loss: 0.1255 - accuracy: 0.8406 - val_loss: 0.1123 - val_accuracy: 0.8333\n",
      "Epoch 17/50\n",
      "1/1 [==============================] - 3s 3s/step - loss: 0.1087 - accuracy: 0.8406 - val_loss: 0.1068 - val_accuracy: 0.8333\n",
      "Epoch 18/50\n",
      "1/1 [==============================] - 2s 2s/step - loss: 0.0981 - accuracy: 0.8406 - val_loss: 0.0986 - val_accuracy: 0.8333\n",
      "Epoch 19/50\n",
      "1/1 [==============================] - 2s 2s/step - loss: 0.0903 - accuracy: 0.8406 - val_loss: 0.0871 - val_accuracy: 0.8333\n",
      "Epoch 20/50\n",
      "1/1 [==============================] - 3s 3s/step - loss: 0.0853 - accuracy: 0.8261 - val_loss: 0.1636 - val_accuracy: 0.6667\n",
      "Epoch 21/50\n",
      "1/1 [==============================] - 2s 2s/step - loss: 0.1387 - accuracy: 0.7246 - val_loss: 0.3491 - val_accuracy: 0.8333\n",
      "Epoch 22/50\n",
      "1/1 [==============================] - 2s 2s/step - loss: 0.3770 - accuracy: 0.8261 - val_loss: 0.1081 - val_accuracy: 0.8333\n",
      "Epoch 23/50\n",
      "1/1 [==============================] - 3s 3s/step - loss: 0.1024 - accuracy: 0.8551 - val_loss: 0.1067 - val_accuracy: 0.8333\n",
      "Epoch 24/50\n",
      "1/1 [==============================] - 3s 3s/step - loss: 0.0953 - accuracy: 0.8406 - val_loss: 0.0985 - val_accuracy: 0.8333\n",
      "Epoch 25/50\n",
      "1/1 [==============================] - 3s 3s/step - loss: 0.0990 - accuracy: 0.8261 - val_loss: 0.1750 - val_accuracy: 0.5833\n",
      "Epoch 26/50\n",
      "1/1 [==============================] - 2s 2s/step - loss: 0.1457 - accuracy: 0.7246 - val_loss: 0.2134 - val_accuracy: 0.8333\n",
      "Epoch 27/50\n",
      "1/1 [==============================] - 3s 3s/step - loss: 0.2083 - accuracy: 0.8261 - val_loss: 0.1059 - val_accuracy: 0.8333\n",
      "Epoch 28/50\n",
      "1/1 [==============================] - 3s 3s/step - loss: 0.1026 - accuracy: 0.8261 - val_loss: 0.0970 - val_accuracy: 0.8333\n",
      "Epoch 29/50\n",
      "1/1 [==============================] - 2s 2s/step - loss: 0.1045 - accuracy: 0.8406 - val_loss: 0.1008 - val_accuracy: 0.8333\n",
      "Epoch 30/50\n",
      "1/1 [==============================] - 3s 3s/step - loss: 0.0908 - accuracy: 0.8986 - val_loss: 0.1179 - val_accuracy: 0.8333\n",
      "Epoch 31/50\n",
      "1/1 [==============================] - 3s 3s/step - loss: 0.1178 - accuracy: 0.8261 - val_loss: 0.1559 - val_accuracy: 0.6667\n",
      "Epoch 32/50\n",
      "1/1 [==============================] - 2s 2s/step - loss: 0.1300 - accuracy: 0.7536 - val_loss: 0.1567 - val_accuracy: 0.8333\n",
      "Epoch 33/50\n",
      "1/1 [==============================] - 3s 3s/step - loss: 0.1460 - accuracy: 0.8261 - val_loss: 0.1033 - val_accuracy: 0.8333\n",
      "Epoch 34/50\n",
      "1/1 [==============================] - 3s 3s/step - loss: 0.0952 - accuracy: 0.8551 - val_loss: 0.0911 - val_accuracy: 0.8333\n",
      "Epoch 35/50\n",
      "1/1 [==============================] - 2s 2s/step - loss: 0.0901 - accuracy: 0.8406 - val_loss: 0.0885 - val_accuracy: 0.9167\n",
      "Epoch 36/50\n",
      "1/1 [==============================] - 3s 3s/step - loss: 0.0891 - accuracy: 0.8406 - val_loss: 0.1370 - val_accuracy: 0.8333\n",
      "Epoch 37/50\n",
      "1/1 [==============================] - 2s 2s/step - loss: 0.1304 - accuracy: 0.8261 - val_loss: 0.2461 - val_accuracy: 0.5833\n",
      "Epoch 38/50\n",
      "1/1 [==============================] - 2s 2s/step - loss: 0.2054 - accuracy: 0.5652 - val_loss: 0.1512 - val_accuracy: 0.8333\n",
      "Epoch 39/50\n",
      "1/1 [==============================] - 3s 3s/step - loss: 0.1420 - accuracy: 0.8261 - val_loss: 0.0907 - val_accuracy: 0.8333\n",
      "Epoch 40/50\n",
      "1/1 [==============================] - 3s 3s/step - loss: 0.0926 - accuracy: 0.8406 - val_loss: 0.0838 - val_accuracy: 0.8333\n",
      "Epoch 41/50\n",
      "1/1 [==============================] - 2s 2s/step - loss: 0.0759 - accuracy: 0.8696 - val_loss: 0.0776 - val_accuracy: 0.8333\n",
      "Epoch 42/50\n",
      "1/1 [==============================] - 2s 2s/step - loss: 0.0742 - accuracy: 0.8551 - val_loss: 0.0737 - val_accuracy: 0.9167\n",
      "Epoch 43/50\n",
      "1/1 [==============================] - 3s 3s/step - loss: 0.0638 - accuracy: 0.9130 - val_loss: 0.0714 - val_accuracy: 0.9167\n",
      "Epoch 44/50\n",
      "1/1 [==============================] - 3s 3s/step - loss: 0.0637 - accuracy: 0.8986 - val_loss: 0.0758 - val_accuracy: 0.9167\n",
      "Epoch 45/50\n",
      "1/1 [==============================] - 3s 3s/step - loss: 0.0627 - accuracy: 0.9420 - val_loss: 0.2361 - val_accuracy: 0.8333\n",
      "Epoch 46/50\n",
      "1/1 [==============================] - 3s 3s/step - loss: 0.2254 - accuracy: 0.8261 - val_loss: 0.2640 - val_accuracy: 0.5833\n",
      "Epoch 47/50\n",
      "1/1 [==============================] - 2s 2s/step - loss: 0.2316 - accuracy: 0.6232 - val_loss: 0.1958 - val_accuracy: 0.8333\n",
      "Epoch 48/50\n",
      "1/1 [==============================] - 2s 2s/step - loss: 0.1726 - accuracy: 0.8261 - val_loss: 0.0765 - val_accuracy: 0.8333\n",
      "Epoch 49/50\n",
      "1/1 [==============================] - 2s 2s/step - loss: 0.0873 - accuracy: 0.8406 - val_loss: 0.0719 - val_accuracy: 0.9167\n",
      "Epoch 50/50\n",
      "1/1 [==============================] - 2s 2s/step - loss: 0.0628 - accuracy: 0.8986 - val_loss: 0.0694 - val_accuracy: 0.9167\n"
     ]
    },
    {
     "data": {
      "text/plain": [
       "<keras.callbacks.History at 0x220d684c970>"
      ]
     },
     "execution_count": 13,
     "metadata": {},
     "output_type": "execute_result"
    }
   ],
   "source": [
    "seq2seq_rnn.compile(\n",
    "    optimizer = \"rmsprop\",\n",
    "    loss = \"sparse_categorical_crossentropy\",\n",
    "    metrics = [\"accuracy\"]\n",
    ")\n",
    "seq2seq_rnn.fit(train_ds, epochs=50, validation_data=val_ds)"
   ]
  },
  {
   "cell_type": "code",
   "execution_count": 14,
   "metadata": {},
   "outputs": [],
   "source": [
    "import numpy as np\n",
    "ban_vocab = target_vectorization.get_vocabulary()\n",
    "ban_index_lookup = dict(zip(range(len(ban_vocab)), ban_vocab))\n",
    "max_decoded_sentence_length = 20"
   ]
  },
  {
   "cell_type": "code",
   "execution_count": 20,
   "metadata": {},
   "outputs": [
    {
     "name": "stdout",
     "output_type": "stream",
     "text": [
      "Train Eng Text: 12\n",
      "Test Eng Text: 2\n",
      "Val Eng Text: 2\n",
      "\n",
      "Train Ban Text: 12\n",
      "Test Ban Text: 2\n",
      "Val Ban Text: 2\n"
     ]
    }
   ],
   "source": [
    "# English texts\n",
    "train_eng_texts = [pair[0] for pair in train_pairs]\n",
    "print(f\"Train Eng Text: {len(train_eng_texts)}\")\n",
    "\n",
    "test_eng_texts = [pair[0] for pair in test_pairs]\n",
    "print(f\"Test Eng Text: {len(test_eng_texts)}\")\n",
    "\n",
    "val_eng_texts = [pair[0] for pair in val_pairs]\n",
    "print(f\"Val Eng Text: {len(val_eng_texts)}\")\n",
    "\n",
    "# Bangla texts\n",
    "train_ban_texts = [pair[1] for pair in train_pairs]\n",
    "print(f\"\\nTrain Ban Text: {len(train_ban_texts)}\")\n",
    "\n",
    "test_ban_texts = [pair[1] for pair in test_pairs]\n",
    "print(f\"Test Ban Text: {len(test_ban_texts)}\")\n",
    "\n",
    "val_ban_texts = [pair[1] for pair in val_pairs]\n",
    "print(f\"Val Ban Text: {len(val_ban_texts)}\")"
   ]
  },
  {
   "cell_type": "code",
   "execution_count": 57,
   "metadata": {},
   "outputs": [
    {
     "name": "stdout",
     "output_type": "stream",
     "text": [
      "[\n"
     ]
    }
   ],
   "source": [
    "input_sentence = random.choice(test_eng_texts)\n",
    "print(input_sentence)"
   ]
  }
 ],
 "metadata": {
  "kernelspec": {
   "display_name": "Python 3",
   "language": "python",
   "name": "python3"
  },
  "language_info": {
   "codemirror_mode": {
    "name": "ipython",
    "version": 3
   },
   "file_extension": ".py",
   "mimetype": "text/x-python",
   "name": "python",
   "nbconvert_exporter": "python",
   "pygments_lexer": "ipython3",
   "version": "3.9.5"
  },
  "orig_nbformat": 4,
  "vscode": {
   "interpreter": {
    "hash": "24d7359adec4ffe2916680474ceb48a86338759ffb8252cd67d6683f84078a4b"
   }
  }
 },
 "nbformat": 4,
 "nbformat_minor": 2
}

{
 "cells": [
  {
   "cell_type": "code",
   "execution_count": 2,
   "metadata": {},
   "outputs": [],
   "source": [
    "#text_file = \"eng-ban.txt\"\n",
    "text_file = \"ban-eng.txt\"\n",
    "# To open the text file we need to encode the text. Here, we use 'utf8' encoding\n",
    "with open(text_file, encoding=\"utf8\") as f:\n",
    "    lines = f.read().split(\"\\n\")[:-1]\n",
    "text_pairs = []\n",
    "for line in lines:\n",
    "    bangla, english = line.split(\" >>> \")\n",
    "    bangla = \"[start] \" + bangla + \" [end]\"\n",
    "    text_pairs.append((english, bangla))"
   ]
  },
  {
   "cell_type": "code",
   "execution_count": 3,
   "metadata": {},
   "outputs": [
    {
     "name": "stdout",
     "output_type": "stream",
     "text": [
      "Total Sentences: 20\n"
     ]
    }
   ],
   "source": [
    "print(\"Total Sentences:\", len(text_pairs))\n",
    "#text_pairs"
   ]
  },
  {
   "cell_type": "code",
   "execution_count": 4,
   "metadata": {},
   "outputs": [
    {
     "name": "stdout",
     "output_type": "stream",
     "text": [
      "('Bangladesh is a south-asian country.', '[start] বাংলাদেশ দক্ষিন এশিয়ার একটি দেশ. [end]')\n",
      "('I know Bangla.', '[start] আমি বাংলা জানি. [end]')\n",
      "('No.', '[start] না. [end]')\n",
      "('Are you mad!', '[start] আপনি কি পাগল! [end]')\n",
      "('Bangla is my mother tounge.', '[start] বাংলা আমার মাতৃভাষা. [end]')\n"
     ]
    }
   ],
   "source": [
    "import random\n",
    "for i in range(5):\n",
    "    print(random.choice(text_pairs));"
   ]
  },
  {
   "cell_type": "code",
   "execution_count": 5,
   "metadata": {},
   "outputs": [],
   "source": [
    "import random\n",
    "random.shuffle(text_pairs)\n",
    "total_data_length = len(text_pairs)\n",
    "num_val_samples = int(0.20 * total_data_length)"
   ]
  },
  {
   "cell_type": "code",
   "execution_count": 6,
   "metadata": {},
   "outputs": [
    {
     "name": "stdout",
     "output_type": "stream",
     "text": [
      "20\n",
      "4\n"
     ]
    }
   ],
   "source": [
    "print(total_data_length)\n",
    "print(num_val_samples)"
   ]
  },
  {
   "cell_type": "code",
   "execution_count": 7,
   "metadata": {},
   "outputs": [],
   "source": [
    "num_train_samples = (total_data_length - 2 * num_val_samples)\n",
    "train_pairs = text_pairs[:num_train_samples]\n",
    "val_pairs = text_pairs[num_train_samples:num_train_samples + num_val_samples]\n",
    "test_pairs = text_pairs[num_train_samples + num_val_samples:]"
   ]
  },
  {
   "cell_type": "code",
   "execution_count": 8,
   "metadata": {},
   "outputs": [
    {
     "name": "stdout",
     "output_type": "stream",
     "text": [
      "Number of Train Pairs: 12\n",
      "Number of Val Pairs: 4\n",
      "Number of Test Pairs: 4\n"
     ]
    }
   ],
   "source": [
    "print(f\"Number of Train Pairs: {len(train_pairs)}\")\n",
    "print(f\"Number of Val Pairs: {len(val_pairs)}\")\n",
    "print(f\"Number of Test Pairs: {len(test_pairs)}\")"
   ]
  },
  {
   "cell_type": "code",
   "execution_count": 31,
   "metadata": {},
   "outputs": [],
   "source": [
    "import tensorflow as tf\n",
    "import string\n",
    "import re\n",
    "\n",
    "strip_chars = string.punctuation + \"\"\n",
    "strip_chars = strip_chars.replace(\"[\", \"\")\n",
    "strip_chars = strip_chars.replace(\"]\", \"\")"
   ]
  },
  {
   "cell_type": "code",
   "execution_count": 21,
   "metadata": {},
   "outputs": [
    {
     "data": {
      "text/plain": [
       "'[!\"\\\\#\\\\$%\\\\&\\'\\\\(\\\\)\\\\*\\\\+,\\\\-\\\\./:;<=>\\\\?@\\\\\\\\\\\\^_`\\\\{\\\\|\\\\}\\\\~]'"
      ]
     },
     "execution_count": 21,
     "metadata": {},
     "output_type": "execute_result"
    }
   ],
   "source": [
    "f\"[{re.escape(strip_chars)}]\""
   ]
  },
  {
   "cell_type": "code",
   "execution_count": 32,
   "metadata": {},
   "outputs": [],
   "source": [
    "# XXXXXXXXXXXXXXXXXXXXXXXXXXXXXXXXXXXXX\n",
    "from tensorflow.keras import layers\n",
    "\n",
    "def custom_standardization(input_string):\n",
    "    lowercase = tf.strings.lower(input_string)\n",
    "    return(tf.strings.regex_replace(\n",
    "        lowercase, f\"[{re.escape(strip_chars)}]\", \"\"\n",
    "    ))\n",
    "\n",
    "vocab_size = 10000\n",
    "sequence_length = 20\n",
    "source_vectorization = layers.TextVectorization(\n",
    "    max_tokens = vocab_size,\n",
    "    output_mode = \"int\",\n",
    "    output_sequence_length = sequence_length\n",
    ")\n",
    "target_vectorization = layers.TextVectorization(\n",
    "    max_tokens = vocab_size,\n",
    "    output_mode = \"int\",\n",
    "    output_sequence_length = sequence_length + 1,\n",
    "    standardize = custom_standardization\n",
    ")"
   ]
  },
  {
   "cell_type": "code",
   "execution_count": 33,
   "metadata": {},
   "outputs": [],
   "source": [
    "train_english_texts = [pair[0] for pair in train_pairs]\n",
    "train_bangla_texts = [pair[1] for pair in train_pairs]\n",
    "source_vectorization.adapt(train_english_texts)\n",
    "target_vectorization.adapt(train_bangla_texts)"
   ]
  },
  {
   "cell_type": "code",
   "execution_count": 34,
   "metadata": {},
   "outputs": [],
   "source": [
    "batch_size = 64\n",
    "\n",
    "def format_dataset(eng, ban):\n",
    "    eng = source_vectorization(eng)\n",
    "    ban = source_vectorization(ban)\n",
    "    return({\"english\": eng, \"bangla\": ban[:, :-1]}, ban[:, 1:])\n",
    "\n",
    "def make_dataset(pairs):\n",
    "    eng_texts, ban_texts = zip(*pairs)\n",
    "    eng_texts = list(eng_texts)\n",
    "    ban_texts = list(ban_texts)\n",
    "    dataset = tf.data.Dataset.from_tensor_slices((eng_texts, ban_texts))\n",
    "    dataset = dataset.batch(batch_size)\n",
    "    dataset = dataset.map(format_dataset, num_parallel_calls = 4)\n",
    "    return(dataset.shuffle(2048).prefetch(16).cache())\n",
    "\n",
    "train_ds = make_dataset(train_pairs)\n",
    "val_ds = make_dataset(val_pairs)"
   ]
  },
  {
   "cell_type": "code",
   "execution_count": 22,
   "metadata": {},
   "outputs": [],
   "source": [
    "#print(list(train_ds.as_numpy_iterator()));"
   ]
  },
  {
   "cell_type": "code",
   "execution_count": 35,
   "metadata": {},
   "outputs": [
    {
     "name": "stdout",
     "output_type": "stream",
     "text": [
      "inputs['english'].shape: (12, 20)\n",
      "inputs['bangla'].shape: (12, 19)\n",
      "target.shape: (12, 19)\n"
     ]
    }
   ],
   "source": [
    "for inputs, targets in train_ds.take(1):\n",
    "    print(f\"inputs['english'].shape: {inputs['english'].shape}\")\n",
    "    print(f\"inputs['bangla'].shape: {inputs['bangla'].shape}\")\n",
    "    print(f\"target.shape: {targets.shape}\")"
   ]
  },
  {
   "cell_type": "code",
   "execution_count": 36,
   "metadata": {},
   "outputs": [],
   "source": [
    "from tensorflow import keras\n",
    "\n",
    "embed_dim = 256\n",
    "latent_dim = 1024"
   ]
  },
  {
   "cell_type": "code",
   "execution_count": 37,
   "metadata": {},
   "outputs": [],
   "source": [
    "source = keras.Input(shape=(None,), dtype=\"int64\", name=\"english\")\n",
    "x = layers.Embedding(vocab_size, embed_dim, mask_zero=True)(source)\n",
    "encoded_source = layers.Bidirectional(layers.GRU(latent_dim), merge_mode=\"sum\")(x)"
   ]
  },
  {
   "cell_type": "code",
   "execution_count": 38,
   "metadata": {},
   "outputs": [],
   "source": [
    "past_target = keras.Input(shape=(None,), dtype=\"int64\", name=\"bangla\")\n",
    "x = layers.Embedding(vocab_size, embed_dim, mask_zero=True)(past_target)\n",
    "decoder_gru = layers.GRU(latent_dim, return_sequences=True)\n",
    "x = decoder_gru(x, initial_state=encoded_source)\n",
    "x = layers.Dropout(0.5)(x)\n",
    "target_next_step = layers.Dense(vocab_size, activation=\"softmax\")(x)\n",
    "seq2seq_rnn = keras.Model([source, past_target], target_next_step)"
   ]
  },
  {
   "cell_type": "code",
   "execution_count": 43,
   "metadata": {},
   "outputs": [],
   "source": [
    "#seq2seq_rnn.summary()"
   ]
  },
  {
   "cell_type": "code",
   "execution_count": 39,
   "metadata": {},
   "outputs": [
    {
     "name": "stdout",
     "output_type": "stream",
     "text": [
      "Epoch 1/10\n",
      "1/1 [==============================] - 24s 24s/step - loss: 2.7078 - accuracy: 0.0000e+00 - val_loss: 2.3467 - val_accuracy: 0.8000\n",
      "Epoch 2/10\n",
      "1/1 [==============================] - 2s 2s/step - loss: 2.6132 - accuracy: 0.8209 - val_loss: 1.6170 - val_accuracy: 0.8000\n",
      "Epoch 3/10\n",
      "1/1 [==============================] - 2s 2s/step - loss: 1.5517 - accuracy: 0.8209 - val_loss: 0.4616 - val_accuracy: 0.8000\n",
      "Epoch 4/10\n",
      "1/1 [==============================] - 2s 2s/step - loss: 0.4743 - accuracy: 0.8209 - val_loss: 0.3413 - val_accuracy: 0.5500\n",
      "Epoch 5/10\n",
      "1/1 [==============================] - 2s 2s/step - loss: 0.3501 - accuracy: 0.5522 - val_loss: 0.4230 - val_accuracy: 0.8000\n",
      "Epoch 6/10\n",
      "1/1 [==============================] - 2s 2s/step - loss: 0.4063 - accuracy: 0.8209 - val_loss: 0.3038 - val_accuracy: 0.8000\n",
      "Epoch 7/10\n",
      "1/1 [==============================] - 2s 2s/step - loss: 0.2568 - accuracy: 0.8209 - val_loss: 0.2750 - val_accuracy: 0.8000\n",
      "Epoch 8/10\n",
      "1/1 [==============================] - 2s 2s/step - loss: 0.2093 - accuracy: 0.8060 - val_loss: 0.2854 - val_accuracy: 0.8000\n",
      "Epoch 9/10\n",
      "1/1 [==============================] - 2s 2s/step - loss: 0.2306 - accuracy: 0.8209 - val_loss: 0.2728 - val_accuracy: 0.8000\n",
      "Epoch 10/10\n",
      "1/1 [==============================] - 2s 2s/step - loss: 0.2058 - accuracy: 0.7761 - val_loss: 0.2915 - val_accuracy: 0.8000\n"
     ]
    },
    {
     "data": {
      "text/plain": [
       "<keras.callbacks.History at 0x2a822938610>"
      ]
     },
     "execution_count": 39,
     "metadata": {},
     "output_type": "execute_result"
    }
   ],
   "source": [
    "seq2seq_rnn.compile(\n",
    "    optimizer = \"rmsprop\",\n",
    "    loss = \"sparse_categorical_crossentropy\",\n",
    "    metrics = [\"accuracy\"]\n",
    ")\n",
    "seq2seq_rnn.fit(train_ds, epochs=100, validation_data=val_ds)"
   ]
  },
  {
   "cell_type": "code",
   "execution_count": 40,
   "metadata": {},
   "outputs": [],
   "source": [
    "import numpy as np\n",
    "ban_vocab = target_vectorization.get_vocabulary()\n",
    "ban_index_lookup = dict(zip(range(len(ban_vocab)), ban_vocab))\n",
    "max_decoded_sentence_length = 20"
   ]
  },
  {
   "cell_type": "code",
   "execution_count": 53,
   "metadata": {},
   "outputs": [
    {
     "name": "stdout",
     "output_type": "stream",
     "text": [
      "{0: '', 1: '[UNK]', 2: '[start]', 3: '[end]', 4: 'বাংলা', 5: 'কি', 6: 'পাগল', 7: 'না', 8: 'জানি', 9: 'আমি', 10: 'আপনি', 11: 'হ্যাঁ', 12: 'হেরেছি', 13: 'হায়', 14: 'মানুষ', 15: 'মাতৃভাষা', 16: 'বাংলায়', 17: 'বাংলাদেশে', 18: 'বলে', 19: 'ফেব্রুয়ারি', 20: 'প্রায়', 21: 'নথি', 22: 'দুঃখিত', 23: 'দিবস', 24: 'থেকে', 25: 'তুমি', 26: 'গিয়েছেন', 27: 'খেলায়', 28: 'কোটি', 29: 'কথা', 30: 'কখনো', 31: 'এটা', 32: 'একুশে', 33: 'এক', 34: 'ইংরেজি', 35: 'আমরা', 36: 'আন্তর্জাতিক', 37: 'অনুবাদের'}\n"
     ]
    }
   ],
   "source": [
    "print(ban_index_lookup)"
   ]
  },
  {
   "cell_type": "code",
   "execution_count": 41,
   "metadata": {},
   "outputs": [
    {
     "name": "stdout",
     "output_type": "stream",
     "text": [
      "Train Eng Text: 12\n",
      "Test Eng Text: 4\n",
      "Val Eng Text: 4\n",
      "\n",
      "Train Ban Text: 12\n",
      "Test Ban Text: 4\n",
      "Val Ban Text: 4\n"
     ]
    }
   ],
   "source": [
    "# English texts\n",
    "train_eng_texts = [pair[0] for pair in train_pairs]\n",
    "print(f\"Train Eng Text: {len(train_eng_texts)}\")\n",
    "\n",
    "test_eng_texts = [pair[0] for pair in test_pairs]\n",
    "print(f\"Test Eng Text: {len(test_eng_texts)}\")\n",
    "\n",
    "val_eng_texts = [pair[0] for pair in val_pairs]\n",
    "print(f\"Val Eng Text: {len(val_eng_texts)}\")\n",
    "\n",
    "# Bangla texts\n",
    "train_ban_texts = [pair[1] for pair in train_pairs]\n",
    "print(f\"\\nTrain Ban Text: {len(train_ban_texts)}\")\n",
    "\n",
    "test_ban_texts = [pair[1] for pair in test_pairs]\n",
    "print(f\"Test Ban Text: {len(test_ban_texts)}\")\n",
    "\n",
    "val_ban_texts = [pair[1] for pair in val_pairs]\n",
    "print(f\"Val Ban Text: {len(val_ban_texts)}\")"
   ]
  },
  {
   "cell_type": "code",
   "execution_count": 42,
   "metadata": {},
   "outputs": [
    {
     "name": "stdout",
     "output_type": "stream",
     "text": [
      "I do not know him.\n"
     ]
    }
   ],
   "source": [
    "input_sentence = random.choice(test_eng_texts)\n",
    "print(input_sentence)\n",
    "tokenized_input_sentence = source_vectorization([input_sentence])\n",
    "#print(tokenized_input_sentence)"
   ]
  },
  {
   "cell_type": "code",
   "execution_count": 43,
   "metadata": {},
   "outputs": [
    {
     "data": {
      "text/plain": [
       "'# Test purpose\\ninput_sentence1 = random.choice(test_pairs)\\nprint(input_sentence1[0])\\nprint(input_sentence1[1])\\ntokenized_input_sentence10 = source_vectorization([input_sentence1[0]])\\nprint(tokenized_input_sentence0)\\ntokenized_input_sentence11 = source_vectorization([input_sentence1[1]])\\nprint(tokenized_input_sentence1)'"
      ]
     },
     "execution_count": 43,
     "metadata": {},
     "output_type": "execute_result"
    }
   ],
   "source": [
    "'''# Test purpose\n",
    "input_sentence1 = random.choice(test_pairs)\n",
    "print(input_sentence1[0])\n",
    "print(input_sentence1[1])\n",
    "tokenized_input_sentence10 = source_vectorization([input_sentence1[0]])\n",
    "print(tokenized_input_sentence0)\n",
    "tokenized_input_sentence11 = source_vectorization([input_sentence1[1]])\n",
    "print(tokenized_input_sentence1)'''"
   ]
  },
  {
   "cell_type": "code",
   "execution_count": 58,
   "metadata": {},
   "outputs": [
    {
     "name": "stdout",
     "output_type": "stream",
     "text": [
      "tf.Tensor([[2 0 0 0 0 0 0 0 0 0 0 0 0 0 0 0 0 0 0 0 0]], shape=(1, 21), dtype=int64)\n",
      "(10000,)\n",
      "[7.4464520e-03 9.9248588e-01 7.2881812e-09 ... 6.1897896e-09 5.3716822e-09\n",
      " 1.0599247e-08]\n",
      "1\n",
      "[UNK]\n",
      "[start] [UNK]\n",
      "\n",
      "Next word prediction...\n",
      "\n",
      "tf.Tensor([[2 1 0 0 0 0 0 0 0 0 0 0 0 0 0 0 0 0 0 0 0]], shape=(1, 21), dtype=int64)\n",
      "(10000,)\n",
      "[2.9025363e-02 9.7093630e-01 4.2610129e-09 ... 3.4295125e-09 3.2348813e-09\n",
      " 5.9960077e-09]\n",
      "1\n",
      "[UNK]\n",
      "[start] [UNK] [UNK]\n",
      "\n",
      "Next word prediction...\n",
      "\n",
      "tf.Tensor([[2 1 1 0 0 0 0 0 0 0 0 0 0 0 0 0 0 0 0 0 0]], shape=(1, 21), dtype=int64)\n",
      "(10000,)\n",
      "[2.9025363e-02 9.7093630e-01 4.2610129e-09 ... 3.4295125e-09 3.2348813e-09\n",
      " 5.9960077e-09]\n",
      "1\n",
      "[UNK]\n",
      "[start] [UNK] [UNK] [UNK]\n"
     ]
    }
   ],
   "source": [
    "decoded_sentence = \"[start]\"    # The decoded sentence (bangla) that begins with \"start\"\n",
    "tokenized_target_sentence = target_vectorization([decoded_sentence])    # It will vectorize the decoded sentence\n",
    "print(tokenized_target_sentence)\n",
    "next_token_predictions = seq2seq_rnn.predict([tokenized_input_sentence, tokenized_target_sentence]) # We use seqRNN -\n",
    "# to predict the next word. It calculates the probability of all vocabs, the highest probability holder will be the next word.\n",
    "print(next_token_predictions[0, 0, :].shape)\n",
    "print(next_token_predictions[0, 0, :])\n",
    "sampled_token_index = np.argmax(next_token_predictions[0, 0, :]);   # The index of the highest probability\n",
    "print(sampled_token_index)\n",
    "sampled_token = ban_index_lookup[sampled_token_index]   # The sample_token_index will retrive the corresponding word from \n",
    "# the dictionary we created earlier as \"ban_index_lookup\"\n",
    "print(sampled_token)\n",
    "decoded_sentence += \" \" + sampled_token     # Here, we cancatenated the retrived word with the decoded sentence \"[start]\"\n",
    "print(decoded_sentence);\n",
    "\n",
    "print(\"\\nNext word prediction...\\n\")\n",
    "# Below, we did the same thing to predict the next word depending on the \"start\" token and the word predicted earlier.\n",
    "tokenized_target_sentence = target_vectorization([decoded_sentence])\n",
    "print(tokenized_target_sentence)\n",
    "next_token_predictions = seq2seq_rnn.predict([tokenized_input_sentence, tokenized_target_sentence])\n",
    "print(next_token_predictions[0, 1, :].shape)\n",
    "print(next_token_predictions[0, 1, :])\n",
    "sampled_token_index = np.argmax(next_token_predictions[0, 1, :]);\n",
    "print(sampled_token_index)\n",
    "sampled_token = ban_index_lookup[sampled_token_index]\n",
    "print(sampled_token)\n",
    "decoded_sentence += \" \" + sampled_token\n",
    "print(decoded_sentence);\n",
    "\n",
    "print(\"\\nNext word prediction...\\n\")\n",
    "# We can do it again and again ...\n",
    "tokenized_target_sentence = target_vectorization([decoded_sentence])\n",
    "print(tokenized_target_sentence)\n",
    "next_token_predictions = seq2seq_rnn.predict([tokenized_input_sentence, tokenized_target_sentence])\n",
    "print(next_token_predictions[0, 1, :].shape)\n",
    "print(next_token_predictions[0, 1, :])\n",
    "sampled_token_index = np.argmax(next_token_predictions[0, 2, :]);\n",
    "print(sampled_token_index)\n",
    "sampled_token = ban_index_lookup[sampled_token_index]\n",
    "print(sampled_token)\n",
    "decoded_sentence += \" \" + sampled_token\n",
    "print(decoded_sentence);"
   ]
  },
  {
   "cell_type": "code",
   "execution_count": 59,
   "metadata": {},
   "outputs": [],
   "source": [
    "# Lets define a decode_sequence function\n",
    "def decode_sequence(input_sentence):\n",
    "    tokenized_input_sentence = source_vectorization([input_sentence])\n",
    "    decoded_sentence = \"[start]\"\n",
    "    for i in range(max_decoded_sentence_length):\n",
    "        tokenized_target_sentence = target_vectorization([decoded_sentence])\n",
    "        next_token_predictions = seq2seq_rnn.predict([tokenized_input_sentence, tokenized_target_sentence])\n",
    "        sampled_token_index = np.argmax(next_token_predictions[0, i, :])\n",
    "        sampled_token = ban_index_lookup[sampled_token_index]\n",
    "        decoded_sentence += \" \" + sampled_token\n",
    "        if sampled_token == \"[end]\": break\n",
    "    return(decoded_sentence)"
   ]
  },
  {
   "cell_type": "code",
   "execution_count": 61,
   "metadata": {},
   "outputs": [
    {
     "name": "stdout",
     "output_type": "stream",
     "text": [
      "---\n",
      "About seventy percentage of people are literate.\n",
      "[start] [UNK] [UNK] [UNK] [UNK] [UNK] [UNK] [UNK] [UNK] [UNK] [UNK] [UNK] [UNK] [UNK] [UNK] [UNK] [UNK] [UNK] [UNK] [UNK] [UNK]\n",
      "---\n",
      "Bangladesh is a south-asian country.\n",
      "[start] [UNK] [UNK] [UNK] [UNK] [UNK] [UNK] [UNK] [UNK] [UNK] [UNK] [UNK] [UNK] [UNK] [UNK] [UNK] [UNK] [UNK] [UNK] [UNK] [UNK]\n",
      "---\n",
      "I do not know him.\n",
      "[start] [UNK] [UNK] [UNK] [UNK] [UNK] [UNK] [UNK] [UNK] [UNK] [UNK] [UNK] [UNK] [UNK] [UNK] [UNK] [UNK] [UNK] [UNK] [UNK] [UNK]\n",
      "---\n",
      "I do not know him.\n",
      "[start] [UNK] [UNK] [UNK] [UNK] [UNK] [UNK] [UNK] [UNK] [UNK] [UNK] [UNK] [UNK] [UNK] [UNK] [UNK] [UNK] [UNK] [UNK] [UNK] [UNK]\n"
     ]
    }
   ],
   "source": [
    "# Lets test the decoder\n",
    "test_eng_texts = [pair[0] for pair in test_pairs]\n",
    "for _ in range(len(test_eng_texts)):\n",
    "    input_sentence = random.choice(test_eng_texts)\n",
    "    print(\"---\")\n",
    "    print(input_sentence)\n",
    "    print(decode_sequence(input_sentence))"
   ]
  }
 ],
 "metadata": {
  "kernelspec": {
   "display_name": "Python 3",
   "language": "python",
   "name": "python3"
  },
  "language_info": {
   "codemirror_mode": {
    "name": "ipython",
    "version": 3
   },
   "file_extension": ".py",
   "mimetype": "text/x-python",
   "name": "python",
   "nbconvert_exporter": "python",
   "pygments_lexer": "ipython3",
   "version": "3.9.5"
  },
  "orig_nbformat": 4,
  "vscode": {
   "interpreter": {
    "hash": "24d7359adec4ffe2916680474ceb48a86338759ffb8252cd67d6683f84078a4b"
   }
  }
 },
 "nbformat": 4,
 "nbformat_minor": 2
}

{
 "cells": [
  {
   "cell_type": "code",
   "execution_count": 46,
   "metadata": {},
   "outputs": [],
   "source": [
    "#text_file = \"eng-ban.txt\"\n",
    "text_file = \"ban-eng.txt\"\n",
    "# To open the text file we need to encode the text. Here, we use 'utf8' encoding\n",
    "with open(text_file, encoding=\"utf8\") as f:\n",
    "    lines = f.read().split(\"\\n\")[:-1]\n",
    "text_pairs = []\n",
    "for line in lines:\n",
    "    bangla, english = line.split(\" >>> \")\n",
    "    bangla = \"[start] \" + bangla + \" [end]\"\n",
    "    text_pairs.append((english, bangla))"
   ]
  },
  {
   "cell_type": "code",
   "execution_count": 47,
   "metadata": {},
   "outputs": [
    {
     "name": "stdout",
     "output_type": "stream",
     "text": [
      "('[start] আমি উনাকে চিনি না. [end]', 'I do not know him.')\n",
      "('[start] হায়! আমরা খেলায় হেরেছি. [end]', 'Allas! We lost the game.')\n",
      "('[start] এটা বাংলা থেকে ইংরেজি অনুবাদের নথি. [end]', 'It is a Bangla to English translation file.')\n",
      "('[start] আমি বাংলা জানি. [end]', 'I know Bangla.')\n",
      "('[start] বাংলা আমার মাতৃভাষা. [end]', 'Bangla is my mother tounge.')\n",
      "('[start] এটা বাংলা থেকে ইংরেজি অনুবাদের নথি. [end]', 'It is a Bangla to English translation file.')\n",
      "('[start] হায়! আমরা খেলায় হেরেছি. [end]', 'Allas! We lost the game.')\n",
      "('[start] বাংলা একটি ভাষা. [end]', 'Bangla is a language.')\n",
      "('[start] বাংলা একটি ভাষা. [end]', 'Bangla is a language.')\n",
      "('[start] বাংলা একটি ভাষা. [end]', 'Bangla is a language.')\n",
      "('[start] আপনি কি কখনো বাংলাদেশে গিয়েছেন? [end]', 'Do you ever been in Bangladesh?')\n",
      "('[start] আমি উনাকে চিনি না. [end]', 'I do not know him.')\n",
      "('[start] বাংলাদেশ একটি উন্নয়নশীল দেশ. [end]', 'Bangladesh is a developing country.')\n"
     ]
    }
   ],
   "source": [
    "import random\n",
    "for i in range(len(text_pairs)):\n",
    "    print(random.choice(text_pairs));"
   ]
  },
  {
   "cell_type": "code",
   "execution_count": 25,
   "metadata": {},
   "outputs": [],
   "source": [
    "import random\n",
    "random.shuffle(text_pairs)\n",
    "total_data_length = len(text_pairs)\n",
    "num_val_samples = int(0.15 * total_data_length)"
   ]
  },
  {
   "cell_type": "code",
   "execution_count": 26,
   "metadata": {},
   "outputs": [],
   "source": [
    "num_train_samples = (total_data_length - (2 * num_val_samples))\n",
    "train_pairs = text_pairs[:num_train_samples]\n",
    "val_pairs = text_pairs[num_train_samples:num_train_samples + num_val_samples]\n",
    "test_pairs = text_pairs[num_train_samples + num_val_samples]"
   ]
  }
 ],
 "metadata": {
  "kernelspec": {
   "display_name": "Python 3",
   "language": "python",
   "name": "python3"
  },
  "language_info": {
   "codemirror_mode": {
    "name": "ipython",
    "version": 3
   },
   "file_extension": ".py",
   "mimetype": "text/x-python",
   "name": "python",
   "nbconvert_exporter": "python",
   "pygments_lexer": "ipython3",
   "version": "3.9.5"
  },
  "orig_nbformat": 4,
  "vscode": {
   "interpreter": {
    "hash": "24d7359adec4ffe2916680474ceb48a86338759ffb8252cd67d6683f84078a4b"
   }
  }
 },
 "nbformat": 4,
 "nbformat_minor": 2
}
